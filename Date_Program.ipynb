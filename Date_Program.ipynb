{
  "nbformat": 4,
  "nbformat_minor": 0,
  "metadata": {
    "colab": {
      "provenance": [],
      "authorship_tag": "ABX9TyMsyvwMuEnQV1FAI+ch0G/S",
      "include_colab_link": true
    },
    "kernelspec": {
      "name": "python3",
      "display_name": "Python 3"
    },
    "language_info": {
      "name": "python"
    }
  },
  "cells": [
    {
      "cell_type": "markdown",
      "metadata": {
        "id": "view-in-github",
        "colab_type": "text"
      },
      "source": [
        "<a href=\"https://colab.research.google.com/github/nickhorowitz/nick/blob/main/Date_Program.ipynb\" target=\"_parent\"><img src=\"https://colab.research.google.com/assets/colab-badge.svg\" alt=\"Open In Colab\"/></a>"
      ]
    },
    {
      "cell_type": "code",
      "execution_count": null,
      "metadata": {
        "id": "ooY74rv1jdaw"
      },
      "outputs": [],
      "source": [
        "def extract_date(date_string):\n",
        "    # Split the date string into day, month, and year\n",
        "    day, month, year = date_string.split(\"/\")\n",
        "    # Return the extracted values as a tuple\n",
        "    return day, month, year\n",
        "\n",
        "# Get the date string from the user\n",
        "date_input = input(\"Enter a date (format: DD/MM/YYYY): \")\n",
        "\n",
        "# Extract the day, month, and year from the date string\n",
        "day, month, year = extract_date(date_input)\n",
        "\n",
        "# Print the extracted values\n",
        "print(\"Extracted Date:\")\n",
        "print(f\"Day: {day}\")\n",
        "print(f\"Month: {month}\")\n",
        "print(f\"Year: {year}\")"
      ]
    }
  ]
}