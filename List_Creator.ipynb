{
  "nbformat": 4,
  "nbformat_minor": 0,
  "metadata": {
    "colab": {
      "provenance": [],
      "authorship_tag": "ABX9TyNP8+Zpbhv1+/GJkGlb+NgL",
      "include_colab_link": true
    },
    "kernelspec": {
      "name": "python3",
      "display_name": "Python 3"
    },
    "language_info": {
      "name": "python"
    }
  },
  "cells": [
    {
      "cell_type": "markdown",
      "metadata": {
        "id": "view-in-github",
        "colab_type": "text"
      },
      "source": [
        "<a href=\"https://colab.research.google.com/github/nickhorowitz/nick/blob/main/List_Creator.ipynb\" target=\"_parent\"><img src=\"https://colab.research.google.com/assets/colab-badge.svg\" alt=\"Open In Colab\"/></a>"
      ]
    },
    {
      "cell_type": "code",
      "execution_count": null,
      "metadata": {
        "id": "XsyZS1iukC6s"
      },
      "outputs": [],
      "source": [
        "# Create an empty list to store the items\n",
        "item_list = []\n",
        "\n",
        "# Get items from the user using a while loop\n",
        "while True:\n",
        "    item = input(\"Enter an item (or press Enter to finish): \")\n",
        "    if item == \"\":\n",
        "        break\n",
        "    item_list.append(item)\n",
        "\n",
        "# Print the list of items\n",
        "print(\"List of Items:\")\n",
        "for item in item_list:\n",
        "    print(item)"
      ]
    }
  ]
}