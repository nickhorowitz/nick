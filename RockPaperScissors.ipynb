{
  "nbformat": 4,
  "nbformat_minor": 0,
  "metadata": {
    "colab": {
      "provenance": [],
      "include_colab_link": true
    },
    "kernelspec": {
      "name": "python3",
      "display_name": "Python 3"
    },
    "language_info": {
      "name": "python"
    }
  },
  "cells": [
    {
      "cell_type": "markdown",
      "metadata": {
        "id": "view-in-github",
        "colab_type": "text"
      },
      "source": [
        "<a href=\"https://colab.research.google.com/github/nickhorowitz/nick/blob/main/RockPaperScissors.ipynb\" target=\"_parent\"><img src=\"https://colab.research.google.com/assets/colab-badge.svg\" alt=\"Open In Colab\"/></a>"
      ]
    },
    {
      "cell_type": "code",
      "execution_count": null,
      "metadata": {
        "id": "4tBEd3LFtreI",
        "colab": {
          "base_uri": "https://localhost:8080/"
        },
        "outputId": "06e2a58c-8e3b-4ff3-ac69-b17387d24119"
      },
      "outputs": [
        {
          "output_type": "stream",
          "name": "stdout",
          "text": [
            "Your Choice (lowercase): rock\n",
            "They chose paper. You lose!\n"
          ]
        }
      ],
      "source": [
        "#nested ifs\n",
        "import random\n",
        "user_input = input('Your Choice (lowercase): ')\n",
        "pc_choice = random.choice([\"rock\", \"paper\", \"scissors\"])\n",
        "\n",
        "if(user_input == \"rock\"):\n",
        "    if(pc_choice == \"rock\"):\n",
        "        print(\"They chose rock. Tie.\")\n",
        "    elif(pc_choice == \"paper\"):\n",
        "      print(\"They chose paper. You lose!\")\n",
        "    else:\n",
        "      print(\"They chose scissors. You win!\")\n",
        "elif(user_input == \"paper\"):\n",
        "    if(pc_choice == \"paper\"):\n",
        "        print(\"They chose paper. Tie.\")\n",
        "\n",
        "    elif(pc_choice == \"rock\"):\n",
        "      print(\"They chose rock. You win!\")\n",
        "\n",
        "    else:\n",
        "      print(\"They chose scissors. You lose\")\n",
        "\n",
        "else: #scissors\n",
        "    if(pc_choice == \"scissors\"):\n",
        "        print(\"They chose scissors. Tie.\")\n",
        "\n",
        "    elif(pc_choice == \"rock\"):\n",
        "      print(\"They chose rock. You lose!\")\n",
        "\n",
        "    else:\n",
        "      print(\"They chose scissors. You win\")"
      ]
    },
    {
      "cell_type": "code",
      "source": [
        "#boolean\n",
        "import random\n",
        "user_input = input(f'Your Choice (lowercase): ')\n",
        "pc_choice = random.choice([\"rock\", \"paper\", \"scissors\"])\n",
        "\n",
        "if(user_input == pc_choice):\n",
        "  print(f\"They chose {pc_choice}. Tie.\")\n",
        "elif(pc_choice == \"paper\") and (user_input == \"rock\"):\n",
        "  print(\"They chose paper. You lose!\")\n",
        "elif(user_input == \"paper\") and (pc_choice == \"rock\"):\n",
        "  print(\"They chose rock. You win!\")\n",
        "elif(pc_choice == \"rock\") and (user_input == \"scissors\"):\n",
        "  print(\"They chose rock. You lose!\")\n",
        "elif(user_input == \"scissors\") and (pc_choice == \"rock\"):\n",
        "  print(\"They chose scissors. You win!\")\n",
        "elif(pc_choice == \"paper\") and (user_input == \"scissors\"):\n",
        "  print(\"They chose paper. You win!\")\n",
        "elif(pc_choice == \"scissors\") and (user_input == \"paper\"):\n",
        "  print(\"They chose scissors. You lose!\")"
      ],
      "metadata": {
        "id": "8FZFyaciw09V",
        "colab": {
          "base_uri": "https://localhost:8080/"
        },
        "outputId": "f6c94fe1-e82d-4ebe-b083-8468d2fa4db2"
      },
      "execution_count": null,
      "outputs": [
        {
          "name": "stdout",
          "output_type": "stream",
          "text": [
            "Your Choice (lowercase): rock\n"
          ]
        }
      ]
    },
    {
      "cell_type": "code",
      "source": [
        "#LeapYear\n",
        "user_input = int(input(f'Year (int): '))\n",
        "\n",
        "if(user_input % 4 == 0 and user_input % 100 != 0) or user_input % 400 == 0:\n",
        "  print(\"That's a Leap Year!\")\n",
        "else:\n",
        "  print(\"That's not a Leap Year\")\n"
      ],
      "metadata": {
        "colab": {
          "base_uri": "https://localhost:8080/"
        },
        "id": "Y_kvwtII4b24",
        "outputId": "0bb098dd-a542-4b17-c32c-7eaa626dec9d"
      },
      "execution_count": null,
      "outputs": [
        {
          "output_type": "stream",
          "name": "stdout",
          "text": [
            "Year (int): 1970\n",
            "That's not a Leap Year\n"
          ]
        }
      ]
    }
  ]
}