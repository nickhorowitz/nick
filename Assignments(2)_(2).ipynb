{
  "nbformat": 4,
  "nbformat_minor": 0,
  "metadata": {
    "colab": {
      "provenance": [],
      "include_colab_link": true
    },
    "kernelspec": {
      "name": "python3",
      "display_name": "Python 3"
    },
    "language_info": {
      "name": "python"
    }
  },
  "cells": [
    {
      "cell_type": "markdown",
      "metadata": {
        "id": "view-in-github",
        "colab_type": "text"
      },
      "source": [
        "<a href=\"https://colab.research.google.com/github/nickhorowitz/nick/blob/main/Assignments(2)_(2).ipynb\" target=\"_parent\"><img src=\"https://colab.research.google.com/assets/colab-badge.svg\" alt=\"Open In Colab\"/></a>"
      ]
    },
    {
      "cell_type": "markdown",
      "source": [
        "# BTE420 - Assignments\n",
        "\n",
        "**Handed out:** 02/15/2023\n",
        "\n",
        "**Deadline:** 03/19/2023, 11:59PM EST\n",
        "\n",
        "*Points:* 20\n",
        "\n",
        "This notebook has five (5) assignments based on the material covered on the first half of the semester (until Spring Break).\n",
        "\n",
        "You can give your answers here, code cells below each question are provided; you can add as many as you need.\n",
        "\n",
        "**Submission guide:** When you are done, submit your file following the steps below:\n",
        "- Hit `Ctrl + P` (if on Windows) or `command + P` (if on Mac) to open the *Print* window.\n",
        "- On the dropdown list, choose `Save as PDF`.\n",
        "- Upload your PDF file on Blackboard.\n",
        "\n",
        "**<span style=\"font-size:100px;\">NO OTHER FILE FORMATS WILL BE ACCEPTED!</span>**\n",
        "\n",
        "All questions have examples of inputs and/or outputs you should get if your program is correct."
      ],
      "metadata": {
        "id": "oweMd_QTV_jz"
      }
    },
    {
      "cell_type": "markdown",
      "source": [
        "## Assignment 1 - Vehicle Routing (7 points)\n",
        "\n",
        "An intercampus shuttle can take one of several routs. For each run, a dispatcher checks what the current traffic conditions are to find out the average speed on each route and determine which route the shuttle driver should take.\n",
        "* Write a program that, in a *while* loop:\n",
        "  - prompts for two inputs: distance (miles) and speed (miles/hour)\n",
        "  - calculates the time the route should take (minutes) and displays the result\n",
        "  - keeps track of which alternative route is the fastest and displays this after all routes are entered\n",
        "\n",
        "  Here is an example session:\n",
        "\n",
        "  ```\n",
        "  Enter route 1 distance (miles): 30\n",
        "  Enter route 1 speed (miles/h): 60\n",
        "  More routes (y/n)?: y\n",
        "\n",
        "  Enter route 2 distance (miles): 25\n",
        "  Enter route 2 speed (miles/h): 55\n",
        "  More routes (y/n)?: n\n",
        "\n",
        "  Route 2 is fastest: 27 minutes\n",
        "  ```\n",
        "\n",
        "* Assume current traffic conditions are as follows. Run your program using the data below to determine the fastest route.\n",
        "\n",
        "|Route Type|Distance (miles)|Current speed (miles/hour)|\n",
        "|----|----|----|\n",
        "|local|30|30|\n",
        "|parkway|35|40|\n",
        "|highway|48|55|\n",
        "\n",
        "* Enhance your program to detect invalid inputs of 0 or negative values for distance or speed.\n"
      ],
      "metadata": {
        "id": "8Y-VqSofYibT"
      }
    },
    {
      "cell_type": "code",
      "execution_count": null,
      "metadata": {
        "id": "VmdYkJzqVxVS"
      },
      "outputs": [],
      "source": [
        "def calcTime(distance, speed):\n",
        "    return round(distance / speed * 60)\n",
        "\n",
        "fastestRoute = 0\n",
        "fastestTime = float('inf')\n",
        "\n",
        "routeNum = 1\n",
        "while True:\n",
        "    distance = float(input(f\"Enter route {routeNum} distance (miles): \"))\n",
        "    speed = float(input(f\"Enter route {routeNum} speed (miles/h): \"))\n",
        "\n",
        "    if distance <= 0 or speed <= 0:\n",
        "        print(\"Invalid input. Distance and speed must be positive.\")\n",
        "        continue\n",
        "\n",
        "    time = calcTime(distance, speed)\n",
        "    print(f\"Route {routeNum} time: {time} minutes\")\n",
        "\n",
        "    if time < fastestTime:\n",
        "        fastestRoute = routeNum\n",
        "        fastestTime = time\n",
        "\n",
        "    more = input(\"More routes (y/n)?: \")\n",
        "    if more.lower() != 'y':\n",
        "        break\n",
        "\n",
        "    routeNum += 1\n",
        "\n",
        "print(f\"\\nRoute {fastestRoute} is fastest: {fastestTime} minutes\")"
      ]
    },
    {
      "cell_type": "markdown",
      "source": [
        "## Assignment 2 - Patient File and BMI (6 points)\n",
        "\n",
        "File `patients.txt` contains patient ID, height (inches), and weight (pounds).\n",
        "\n",
        "* Write a program that reads each line of the file, calculates the BMI for each patient, and displays each patient's ID and their BMI to the screen. The equation for BMI is:\n",
        "$$BMI = \\frac{weight}{height^2}\\times 703$$\n",
        "* Enhance your program so that the patient ID and BMI are saved to a file called `bmi.txt`.\n",
        "* Enhance your program so that if the height or weight data in the file are not numeric, the program will display an error message to the screen including the patient's ID."
      ],
      "metadata": {
        "id": "jh1P8eH9aagl"
      }
    },
    {
      "cell_type": "code",
      "source": [
        "def calcBMI(height, weight):\n",
        "    return weight / (height ** 2) * 703\n",
        "\n",
        "with open('patients.txt', 'r') as infile, open('bmi.txt', 'w') as outfile:\n",
        "    for line in infile:\n",
        "        parts = line.split()\n",
        "        patientID = parts[0]\n",
        "        try:\n",
        "            height = float(parts[1])\n",
        "            weight = float(parts[2])\n",
        "            bmi = calcBMI(height, weight)\n",
        "            print(f\"{patientID} BMI: {bmi:.1f}\")\n",
        "            outfile.write(f\"{patientID} {bmi:.1f}\\n\")\n",
        "        except ValueError:\n",
        "            print(f\"Error: Invalid data for patient {patientID}\")"
      ],
      "metadata": {
        "id": "udyOcF9Pcyhl"
      },
      "execution_count": null,
      "outputs": []
    },
    {
      "cell_type": "markdown",
      "source": [
        "## Assignment 3 - Dollar Store (4 points)\n",
        "\n",
        "A store sells all items for $1. Customers buing 10 or more items receive a 5% discount. Additionally, there is 7.5% sales tax.\n",
        "\n",
        "Write a program that prompts the user for the number of items purchased, and calculates the total cost before and after tax. Here is an example session:\n",
        "  ```\n",
        "  Enter number of items: 10\n",
        "  Net cost: 9.50\n",
        "  Tax: 0.71\n",
        "  After tax: 10.21\n",
        "  ```\n",
        "As part of your program, define and use the following functions:\n",
        "\n",
        "|function|description|input arguments|Returned result|\n",
        "|---|----|---|---|\n",
        "|`calcCost(count)`|Calculate pre-tax cost|Count: integer for the number of items purchased|Pretax total cost fo items purchased, <br />accounting for discount if any|\n",
        "|`displayLine(label,amount)`|Display one line of the output,<br /> formatted to a given width <br />and number of decimal places|Label: the label for displayed line<br />Amount: the mount for displayed line|None (function displays on screen)|\n",
        "|`display(cost, tax)`|Display net cost, tax, and after-tax <br />amounts using calls to `displayLine()` function|Cost: the pre-tax cost, calculated by `calcCost()<br />Tax: the tax|None (function displays on screen)|"
      ],
      "metadata": {
        "id": "zeL6URKkczIu"
      }
    },
    {
      "cell_type": "code",
      "source": [
        "def calcCost(count):\n",
        "    cost = count\n",
        "    if count >= 10:\n",
        "        cost *= 0.95\n",
        "    return cost\n",
        "\n",
        "def displayLine(label, amount):\n",
        "    print(f\"{label:10} {amount:5.2f}\")\n",
        "\n",
        "def display(cost, tax):\n",
        "    displayLine(\"Net cost:\", cost)\n",
        "    displayLine(\"Tax:\", tax)\n",
        "    displayLine(\"After tax:\", cost + tax)\n",
        "\n",
        "count = int(input(\"Enter number of items: \"))\n",
        "cost = calcCost(count)\n",
        "tax = cost * 0.075\n",
        "display(cost, tax)"
      ],
      "metadata": {
        "id": "CyB8nzlMd0M3"
      },
      "execution_count": null,
      "outputs": []
    },
    {
      "cell_type": "markdown",
      "source": [
        "## Assignment 4 - Mode of List (3 points)\n",
        "\n",
        "Write a program that prompts the user for a list of numbers and determines the mode of the list. The mode is the value (or values) that occur the most often. For example, the mode of `[1,2,3,2]` is `2`; the mode of `[1,2,3,2,3]` is `[2,3]`.\n",
        "\n",
        "To solve this problem, use lists and a dictionary.\n",
        "\n",
        "Here are some suggested functions you could define as part of the solution to this problem:\n",
        "\n",
        "```python\n",
        "# build a dictionary of values and their counts\n",
        "def findCounts(alist)\n",
        "\n",
        "# find the largest value of key/value pairs in a dictionary\n",
        "def findMaxCount(adict)\n",
        "\n",
        "# find the keys having a given value\n",
        "def findValuesWithCount(adict, count)\n",
        "```"
      ],
      "metadata": {
        "id": "EkwNmJLkfI7V"
      }
    },
    {
      "cell_type": "code",
      "source": [
        "def findCounts(alist):\n",
        "    counts = {}\n",
        "    for item in alist:\n",
        "        if item in counts:\n",
        "            counts[item] += 1\n",
        "        else:\n",
        "            counts[item] = 1\n",
        "    return counts\n",
        "\n",
        "def findMaxCount(adict):\n",
        "    return max(adict.values())\n",
        "\n",
        "def findValuesWithCount(adict, count):\n",
        "    return [k for k, v in adict.items() if v == count]\n",
        "\n",
        "nums = list(map(int, input(\"Enter numbers separated by spaces: \").split()))\n",
        "counts = findCounts(nums)\n",
        "maxCount = findMaxCount(counts)\n",
        "mode = findValuesWithCount(counts, maxCount)\n",
        "\n",
        "print(\"The mode is:\", mode)"
      ],
      "metadata": {
        "id": "4f5eDiW4gb_W"
      },
      "execution_count": null,
      "outputs": []
    }
  ]
}