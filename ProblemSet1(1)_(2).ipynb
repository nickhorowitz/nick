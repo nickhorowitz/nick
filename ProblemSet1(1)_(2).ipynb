{
  "nbformat": 4,
  "nbformat_minor": 0,
  "metadata": {
    "colab": {
      "provenance": [],
      "include_colab_link": true
    },
    "kernelspec": {
      "name": "python3",
      "display_name": "Python 3"
    },
    "language_info": {
      "name": "python"
    }
  },
  "cells": [
    {
      "cell_type": "markdown",
      "metadata": {
        "id": "view-in-github",
        "colab_type": "text"
      },
      "source": [
        "<a href=\"https://colab.research.google.com/github/nickhorowitz/nick/blob/main/ProblemSet1(1)_(2).ipynb\" target=\"_parent\"><img src=\"https://colab.research.google.com/assets/colab-badge.svg\" alt=\"Open In Colab\"/></a>"
      ]
    },
    {
      "cell_type": "markdown",
      "source": [
        "# Problem Set 2"
      ],
      "metadata": {
        "id": "mqKVIuY-mxNU"
      }
    },
    {
      "cell_type": "markdown",
      "source": [
        "## Assignment 1: Quality Control (7 points)\n",
        "\n",
        "A quality control manager would like to find the average weight of a list of weights. Prior experience indicates that the first two measures are atypical, and the practice is to exclude these from the average calculation.\n",
        "\n",
        "Write a program that calculates the average of a list of numbers that given as inputs from the user, excluding the first three values.\n",
        "\n",
        "For your program, you must define and use the following functions:\n",
        "- `getValues(n)`: Prompt the user for `n` values, returns the list\n",
        "- `calcAverage(alist)`: Calculates the average from the list"
      ],
      "metadata": {
        "id": "-RSYW1jVm08n"
      }
    },
    {
      "cell_type": "code",
      "execution_count": null,
      "metadata": {
        "id": "AqbgJkgNmvQw"
      },
      "outputs": [],
      "source": [
        "def getValues(n):\n",
        "    values = []\n",
        "    for i in range(n):\n",
        "        value = float(input(f\"Enter value {i+1}: \"))\n",
        "        values.append(value)\n",
        "    return values\n",
        "\n",
        "def calcAverage(alist):\n",
        "    return sum(alist[3:]) / (len(alist) - 3)\n",
        "\n",
        "# Main program\n",
        "n = int(input(\"Enter the number of values: \"))\n",
        "weights = getValues(n)\n",
        "average = calcAverage(weights)\n",
        "print(f\"Average weight (excluding the first three values): {average:.2f}\")"
      ]
    },
    {
      "cell_type": "markdown",
      "source": [
        "## Assignment 2: Country Statistics Lookup-Multiple Measures (6 points)\n",
        "\n",
        "Assume a program begins with the statement:\n",
        "\n",
        "```python\n",
        "allData = { # dictionary of values for countries\n",
        "    'US': {'pop':325.7, 'gdp': 19.39, 'ccy': 'USD', 'fx':  1.0},\n",
        "    'CA': {'pop': 36.5, 'gdp':  1.65, 'ccy': 'CAD', 'fx':  1.35},\n",
        "    'MX': {'pop':129.2, 'gdp':  1.15, 'ccy': 'MXN', 'fx': 19.68}\n",
        "    }\n",
        "```\n",
        "\n",
        "Write subsequent statements that (in a loop) prompt the user for a country code (`US`, `CA`, or `MX`), then prompt for a measure name (`pop`, `gdp`, `ccy`, or `fx`), then look up in the above dictionary for the corresponding value, and display it.\n",
        "\n",
        "Example run:\n",
        "```\n",
        "Please enter a country code: CA\n",
        "Please enter a statistic: pop\n",
        "CA pop = 36.5\n",
        "```\n",
        "\n",
        "Your program should handle the cases where a user-entered country code or measure name is not found."
      ],
      "metadata": {
        "id": "QFO0Kzx8ncnv"
      }
    },
    {
      "cell_type": "code",
      "source": [
        "allData = {\n",
        "    'US': {'pop': 325.7, 'gdp': 19.39, 'ccy': 'USD', 'fx': 1.0},\n",
        "    'CA': {'pop': 36.5, 'gdp': 1.65, 'ccy': 'CAD', 'fx': 1.35},\n",
        "    'MX': {'pop': 129.2, 'gdp': 1.15, 'ccy': 'MXN', 'fx': 19.68}\n",
        "}\n",
        "\n",
        "while True:\n",
        "    country_code = input(\"Please enter a country code (US, CA, MX) or 'quit' to exit: \")\n",
        "    if country_code == 'quit':\n",
        "        break\n",
        "\n",
        "    if country_code not in allData:\n",
        "        print(\"Invalid country code.\")\n",
        "        continue\n",
        "\n",
        "    measure = input(\"Please enter a statistic (pop, gdp, ccy, fx): \")\n",
        "    if measure not in allData[country_code]:\n",
        "        print(\"Invalid measure name.\")\n",
        "        continue\n",
        "\n",
        "    value = allData[country_code][measure]\n",
        "    print(f\"{country_code} {measure} = {value}\")"
      ],
      "metadata": {
        "id": "NZFjRINKowEW"
      },
      "execution_count": null,
      "outputs": []
    },
    {
      "cell_type": "markdown",
      "source": [
        "## Assignment 3: Parking Garage (6 points)\n",
        "\n",
        "Write a program to compute the fee for parking in a garage for a number of hours.\n",
        "\n",
        "The program should:\n",
        "- Prompt the user for how many hours parked\n",
        "- Calculate the fee based on the following rules:\n",
        "  - $2.50/hour\n",
        "\n",
        "  - minimum fee is $6.00\n",
        "\n",
        "  - maximum fee is $20.00\n",
        "- Print the result\n",
        "\n",
        "For your program, define and use the following two functions:\n",
        "```python\n",
        "# use input() to prompt for the # of hours parked, return this value\n",
        "def getParkingHours()\n",
        "\n",
        "# takes as input hours (a number), returns the parking fee\n",
        "def calcParkingFee()\n",
        "```"
      ],
      "metadata": {
        "id": "GjaUFrnfpKFf"
      }
    },
    {
      "cell_type": "code",
      "source": [
        "def getParkingHours():\n",
        "    hours = float(input(\"Enter the number of hours parked: \"))\n",
        "    return hours\n",
        "\n",
        "def calcParkingFee(hours):\n",
        "    hourly_rate = 2.50\n",
        "    minimum_fee = 6.00\n",
        "    maximum_fee = 20.00\n",
        "\n",
        "    fee = hours * hourly_rate\n",
        "    fee = max(fee, minimum_fee)\n",
        "    fee = min(fee, maximum_fee)\n",
        "\n",
        "    return fee\n",
        "\n",
        "# Main program\n",
        "hours = getParkingHours()\n",
        "parking_fee = calcParkingFee(hours)\n",
        "print(f\"Parking fee: ${parking_fee:.2f}\")"
      ],
      "metadata": {
        "id": "5ha4O3V5pwNN"
      },
      "execution_count": null,
      "outputs": []
    },
    {
      "cell_type": "markdown",
      "source": [
        "## Assignment 4: Tuition (6 points)\n",
        "\n",
        "A college charges tuition according to the following:\n",
        "- 12 or more credits: $20,000/semester\n",
        "\n",
        "- 1-11 credits: $1,200 + $1,700 per credit\n",
        "\n",
        "Write a program that prompts the user for a number of credits and determines and displays the tuition for the semester. As part of your program, define and use the following function:\n",
        "```python\n",
        "def calcTuition(credits)\n",
        "```\n",
        "The function returns the tuition for a given number of credits"
      ],
      "metadata": {
        "id": "gipBObe5qm-2"
      }
    },
    {
      "cell_type": "code",
      "source": [
        "def calcTuition(credits):\n",
        "    if credits >= 12:\n",
        "        return 20000\n",
        "    else:\n",
        "        return 1200 + 1700 * credits\n",
        "\n",
        "# Main program\n",
        "credits = int(input(\"Enter the number of credits: \"))\n",
        "tuition = calcTuition(credits)\n",
        "print(f\"Tuition for {credits} credits: ${tuition:.2f}\")"
      ],
      "metadata": {
        "id": "BPcn9ywzrL8y"
      },
      "execution_count": null,
      "outputs": []
    }
  ]
}