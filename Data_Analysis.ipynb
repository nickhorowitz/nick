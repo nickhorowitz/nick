{
  "nbformat": 4,
  "nbformat_minor": 0,
  "metadata": {
    "colab": {
      "provenance": [],
      "authorship_tag": "ABX9TyO7Kzbv8WQANxUQgTVs517c",
      "include_colab_link": true
    },
    "kernelspec": {
      "name": "python3",
      "display_name": "Python 3"
    },
    "language_info": {
      "name": "python"
    }
  },
  "cells": [
    {
      "cell_type": "markdown",
      "metadata": {
        "id": "view-in-github",
        "colab_type": "text"
      },
      "source": [
        "<a href=\"https://colab.research.google.com/github/nickhorowitz/nick/blob/main/Data_Analysis.ipynb\" target=\"_parent\"><img src=\"https://colab.research.google.com/assets/colab-badge.svg\" alt=\"Open In Colab\"/></a>"
      ]
    },
    {
      "cell_type": "code",
      "execution_count": null,
      "metadata": {
        "id": "l_qhsdwJauHL"
      },
      "outputs": [],
      "source": [
        "sp500 = {}\n",
        "\n",
        "with open(\"SNP_500.rtf\", \"r\") as f:\n",
        "    for line in f:\n",
        "        line = line.split()\n",
        "        if line:\n",
        "            symbol = line[0]\n",
        "            name = \" \".join(line[1:])\n",
        "            sp500[symbol] = {\"Security\": name}\n",
        "\n",
        "print(sp500[\"MMM\"])  # Output: {'Security': '3M'}"
      ]
    }
  ]
}